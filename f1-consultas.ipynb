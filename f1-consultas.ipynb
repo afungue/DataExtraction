{
  "cells": [
    {
      "cell_type": "markdown",
      "metadata": {
        "id": "view-in-github",
        "colab_type": "text"
      },
      "source": [
        "<a href=\"https://colab.research.google.com/github/afungue/DataExtraction/blob/main/f1-consultas.ipynb\" target=\"_parent\"><img src=\"https://colab.research.google.com/assets/colab-badge.svg\" alt=\"Open In Colab\"/></a>"
      ]
    },
    {
      "cell_type": "markdown",
      "source": [
        "#OpenF1 https://openf1.org/\n",
        "OpenF1 es una API gratuita y de código abierto que proporciona datos en tiempo real e históricos de la Fórmula 1.\n",
        "\n",
        "La API ofrece una gran cantidad de información, incluyendo tiempos por vuelta, telemetría de los autos, comunicaciones por radio, y más. Ya sea que estés buscando crear paneles interactivos, profundizar en el análisis de las carreras o incluso desarrollar objetos conectados que se iluminen cada vez que tu piloto favorito tome la delantera, OpenF1 lo hace posible.\n",
        "\n",
        "Los datos se pueden acceder en formatos JSON o CSV, lo que la hace amigable tanto para desarrolladores como para personas sin experiencia técnica. Para comenzar rápidamente, puedes acceder a la API a través de tu navegador web. Se proporciona una URL de ejemplo para cada método como referencia."
      ],
      "metadata": {
        "id": "4QKanFA3hFiO"
      }
    },
    {
      "cell_type": "code",
      "source": [
        "!pip install requests\n"
      ],
      "metadata": {
        "id": "5beM_fWH2u2O",
        "outputId": "a457a1d8-55b2-43f8-f2e8-3daaa1e3e8b4",
        "colab": {
          "base_uri": "https://localhost:8080/"
        }
      },
      "execution_count": null,
      "outputs": [
        {
          "output_type": "stream",
          "name": "stdout",
          "text": [
            "Requirement already satisfied: requests in /usr/local/lib/python3.10/dist-packages (2.32.3)\n",
            "Requirement already satisfied: charset-normalizer<4,>=2 in /usr/local/lib/python3.10/dist-packages (from requests) (3.4.0)\n",
            "Requirement already satisfied: idna<4,>=2.5 in /usr/local/lib/python3.10/dist-packages (from requests) (3.10)\n",
            "Requirement already satisfied: urllib3<3,>=1.21.1 in /usr/local/lib/python3.10/dist-packages (from requests) (2.2.3)\n",
            "Requirement already satisfied: certifi>=2017.4.17 in /usr/local/lib/python3.10/dist-packages (from requests) (2024.8.30)\n"
          ]
        }
      ]
    },
    {
      "cell_type": "markdown",
      "source": [
        "# Sesiones\n",
        "Las sesiones disponibles van desde la 0 hasta la 202 (Austin Texas 2024)"
      ],
      "metadata": {
        "id": "iYU40_S026de"
      }
    },
    {
      "cell_type": "code",
      "source": [
        "from urllib.request import urlopen, Request\n",
        "import json\n",
        "import os\n",
        "\n",
        "# Define la URL de la API para obtener todas las sesiones\n",
        "url = 'https://api.openf1.org/v1/sessions'\n",
        "api_key = os.getenv('OpenF1')  # Asegúrate de que la clave API esté en la variable de entorno\n",
        "\n",
        "# Configura la solicitud con la clave API en los encabezados\n",
        "request = Request(url)\n",
        "request.add_header('Authorization', f'Bearer {api_key}')\n",
        "\n",
        "try:\n",
        "    # Realiza la solicitud a la API\n",
        "    response = urlopen(request)\n",
        "    data = response.read().decode('utf-8')\n",
        "\n",
        "    # Cargar la respuesta como JSON\n",
        "    data_sessions = json.loads(data)\n",
        "\n",
        "    # Ordenar las sesiones por año (descendente) y date_start (descendente)\n",
        "    sorted_sessions = sorted(data_sessions, key=lambda x: (x['year'], x['date_start']), reverse=True)\n",
        "\n",
        "    # Imprimir la información de todas las sesiones en el formato solicitado\n",
        "    last_year = None\n",
        "    last_location = None\n",
        "\n",
        "    for session in sorted_sessions:  # Iterar sobre las sesiones ya ordenadas\n",
        "        if (session['year'], session['location']) != (last_year, last_location):\n",
        "            # Solo imprime el año y la localidad una vez\n",
        "            date_start = session['date_start']\n",
        "            date_end = session['date_end']\n",
        "            print(f\"{session['year']}, {session['location']} (Inicio: {date_start}, Fin: {date_end})\")\n",
        "            last_year = session['year']\n",
        "            last_location = session['location']\n",
        "\n",
        "        # Indentación para las sesiones\n",
        "        print(f\"    {session['session_name']} (ID: {session['session_key']})\")\n",
        "\n",
        "except Exception as e:\n",
        "    print(\"An error occurred:\", str(e))\n"
      ],
      "metadata": {
        "id": "dRQckoOEnG69"
      },
      "execution_count": null,
      "outputs": []
    },
    {
      "cell_type": "markdown",
      "source": [
        "# Sesiones por año\n"
      ],
      "metadata": {
        "id": "h47c8x3riy-E"
      }
    },
    {
      "cell_type": "code",
      "source": [
        "from urllib.request import urlopen, Request\n",
        "import json\n",
        "import os\n",
        "from datetime import datetime\n",
        "import pytz  # Importar la librería pytz\n",
        "\n",
        "# Función para obtener sesiones por año\n",
        "def get_sessions_by_year(year):\n",
        "    # Define la URL de la API para obtener todas las sesiones\n",
        "    url = f'https://api.openf1.org/v1/sessions?year={year}'\n",
        "    api_key = os.getenv('OpenF1')  # Asegúrate de que la clave API esté en la variable de entorno\n",
        "\n",
        "    # Configura la solicitud con la clave API en los encabezados\n",
        "    request = Request(url)\n",
        "    request.add_header('Authorization', f'Bearer {api_key}')\n",
        "\n",
        "    try:\n",
        "        # Realiza la solicitud a la API\n",
        "        response = urlopen(request)\n",
        "        data = response.read().decode('utf-8')\n",
        "\n",
        "        # Cargar la respuesta como JSON\n",
        "        data_sessions = json.loads(data)\n",
        "\n",
        "        # Ordenar las sesiones por date_start de más nueva a más antigua\n",
        "        data_sessions.sort(key=lambda x: x['date_start'], reverse=True)\n",
        "\n",
        "        # Imprimir la información de las sesiones\n",
        "        current_year = None\n",
        "        current_location = None\n",
        "        print(f\"{'Año':<6} {'Localidad':<20} {'Nombre':<30} {'ID':<6} {'Fecha inicio':<25} {'Fecha fin':<25}\")\n",
        "        print(\"=\" * 120)\n",
        "\n",
        "        # Definir la zona horaria de Argentina (GMT-3)\n",
        "        tz = pytz.timezone('America/Argentina/Buenos_Aires')\n",
        "\n",
        "        for session in data_sessions:\n",
        "            if session['year'] != current_year:\n",
        "                current_year = session['year']\n",
        "                print(f\"{current_year:<6}\")\n",
        "\n",
        "            if session['location'] != current_location:\n",
        "                current_location = session['location']\n",
        "                print(f\"  {current_location:<20}\")\n",
        "\n",
        "            # Convertir las fechas a tu zona horaria\n",
        "            date_start = datetime.fromisoformat(session['date_start'].replace(\"Z\", \"+00:00\"))\n",
        "            date_end = datetime.fromisoformat(session['date_end'].replace(\"Z\", \"+00:00\"))\n",
        "\n",
        "            # Ajustar a la zona horaria GMT-3\n",
        "            date_start = date_start.astimezone(tz)\n",
        "            date_end = date_end.astimezone(tz)\n",
        "\n",
        "            # Formatear las fechas\n",
        "            formatted_start = date_start.strftime(\"%d %B %Y, %H:%M\")\n",
        "            formatted_end = date_end.strftime(\"%d %B %Y, %H:%M\")\n",
        "\n",
        "            # Imprimir nombre de sesión, ID y fechas con ajuste de espacio\n",
        "            print(f\"    {session['session_name']:<18} (ID: {session['session_key']:<5}) - Fecha inicio: {formatted_start:<24} - Fecha fin: {formatted_end:<24}\")\n",
        "\n",
        "    except Exception as e:\n",
        "        print(\"An error occurred:\", str(e))\n",
        "\n",
        "# Ejemplo de uso\n",
        "get_sessions_by_year(2024)  # Cambia el año según lo necesites\n"
      ],
      "metadata": {
        "id": "BcvcGk6ui2su"
      },
      "execution_count": null,
      "outputs": []
    },
    {
      "cell_type": "markdown",
      "source": [
        "# Localidades por año"
      ],
      "metadata": {
        "id": "JJmlMiL2mf2h"
      }
    },
    {
      "cell_type": "code",
      "source": [
        "from urllib.request import urlopen, Request\n",
        "import json\n",
        "import os\n",
        "\n",
        "# Función para obtener localidades por año\n",
        "def get_locations_by_year(year):\n",
        "    # Define la URL de la API para obtener todas las sesiones\n",
        "    url = f'https://api.openf1.org/v1/sessions?year={year}'\n",
        "    api_key = os.getenv('OpenF1')  # Asegúrate de que la clave API esté en la variable de entorno\n",
        "\n",
        "    # Configura la solicitud con la clave API en los encabezados\n",
        "    request = Request(url)\n",
        "    request.add_header('Authorization', f'Bearer {api_key}')\n",
        "\n",
        "    try:\n",
        "        # Realiza la solicitud a la API\n",
        "        response = urlopen(request)\n",
        "        data = response.read().decode('utf-8')\n",
        "\n",
        "        # Cargar la respuesta como JSON\n",
        "        data_sessions = json.loads(data)\n",
        "\n",
        "        # Usar un conjunto para almacenar las localidades únicas\n",
        "        locations = set()\n",
        "\n",
        "        # Recorrer las sesiones y añadir las localidades al conjunto\n",
        "        for session in data_sessions:\n",
        "            locations.add(session['location'])\n",
        "\n",
        "        # Imprimir las localidades\n",
        "        print(f\"Localidades donde se corrió en {year}:\")\n",
        "        for location in sorted(locations):\n",
        "            print(location)\n",
        "\n",
        "    except Exception as e:\n",
        "        print(\"An error occurred:\", str(e))\n",
        "\n",
        "# Ejemplo de uso\n",
        "get_locations_by_year(2024)  # Cambia el año según lo necesites\n"
      ],
      "metadata": {
        "colab": {
          "base_uri": "https://localhost:8080/"
        },
        "id": "fKxc5di1iGa2",
        "outputId": "b8af9c6c-561f-4bab-e7d0-a4e868cc1638"
      },
      "execution_count": 55,
      "outputs": [
        {
          "output_type": "stream",
          "name": "stdout",
          "text": [
            "Localidades donde se corrió en 2024:\n",
            "Austin\n",
            "Baku\n",
            "Barcelona\n",
            "Budapest\n",
            "Imola\n",
            "Jeddah\n",
            "Marina Bay\n",
            "Melbourne\n",
            "Miami\n",
            "Monaco\n",
            "Montréal\n",
            "Monza\n",
            "Sakhir\n",
            "Shanghai\n",
            "Silverstone\n",
            "Spa-Francorchamps\n",
            "Spielberg\n",
            "Suzuka\n",
            "Zandvoort\n"
          ]
        }
      ]
    },
    {
      "cell_type": "markdown",
      "source": [
        "# Sesiones por año y localidad"
      ],
      "metadata": {
        "id": "5koBYhB6i9PV"
      }
    },
    {
      "cell_type": "code",
      "source": [
        "from urllib.request import urlopen, Request\n",
        "import json\n",
        "import os\n",
        "from datetime import datetime\n",
        "import pytz  # Importar la librería pytz\n",
        "\n",
        "# Función para obtener sesiones por año y localidad\n",
        "def get_sessions_by_year_and_location(year, location):\n",
        "    # Define la URL de la API para obtener todas las sesiones\n",
        "    url = f'https://api.openf1.org/v1/sessions?year={year}'\n",
        "    api_key = os.getenv('OpenF1')  # Asegúrate de que la clave API esté en la variable de entorno\n",
        "\n",
        "    # Configura la solicitud con la clave API en los encabezados\n",
        "    request = Request(url)\n",
        "    request.add_header('Authorization', f'Bearer {api_key}')\n",
        "\n",
        "    try:\n",
        "        # Realiza la solicitud a la API\n",
        "        response = urlopen(request)\n",
        "        data = response.read().decode('utf-8')\n",
        "\n",
        "        # Cargar la respuesta como JSON\n",
        "        data_sessions = json.loads(data)\n",
        "\n",
        "        # Filtrar las sesiones por localidad\n",
        "        filtered_sessions = [session for session in data_sessions if session['location'].lower() == location.lower()]\n",
        "\n",
        "        # Ordenar las sesiones por date_start de más nueva a más antigua\n",
        "        filtered_sessions.sort(key=lambda x: x['date_start'], reverse=True)\n",
        "\n",
        "        # Imprimir la información de las sesiones\n",
        "        current_year = None\n",
        "        current_location = None\n",
        "        print(f\"{'Año':<6} {'Localidad':<20} {'Nombre':<30} {'ID':<6} {'Fecha inicio':<25} {'Fecha fin':<25}\")\n",
        "        print(\"=\" * 120)\n",
        "\n",
        "        # Definir la zona horaria de Argentina (GMT-3)\n",
        "        tz = pytz.timezone('America/Argentina/Buenos_Aires')\n",
        "\n",
        "        for session in filtered_sessions:\n",
        "            if session['year'] != current_year:\n",
        "                current_year = session['year']\n",
        "                print(f\"{current_year:<6}\")\n",
        "\n",
        "            if session['location'] != current_location:\n",
        "                current_location = session['location']\n",
        "                print(f\"  {current_location:<20}\")\n",
        "\n",
        "            # Convertir las fechas a tu zona horaria\n",
        "            date_start = datetime.fromisoformat(session['date_start'].replace(\"Z\", \"+00:00\"))\n",
        "            date_end = datetime.fromisoformat(session['date_end'].replace(\"Z\", \"+00:00\"))\n",
        "\n",
        "            # Ajustar a la zona horaria GMT-3\n",
        "            date_start = date_start.astimezone(tz)\n",
        "            date_end = date_end.astimezone(tz)\n",
        "\n",
        "            # Formatear las fechas\n",
        "            formatted_start = date_start.strftime(\"%d %B %Y, %H:%M\")\n",
        "            formatted_end = date_end.strftime(\"%d %B %Y, %H:%M\")\n",
        "\n",
        "            # Imprimir nombre de sesión, ID y fechas con ajuste de espacio\n",
        "            print(f\"    {session['session_name']:<18} (ID: {session['session_key']:<5}) - Fecha inicio: {formatted_start:<24} - Fecha fin: {formatted_end:<24}\")\n",
        "\n",
        "        # Si no hay sesiones filtradas, informar al usuario\n",
        "        if not filtered_sessions:\n",
        "            print(f\"No se encontraron sesiones en {location} para el año {year}.\")\n",
        "\n",
        "    except Exception as e:\n",
        "        print(\"An error occurred:\", str(e))\n",
        "\n",
        "# Ejemplo de uso\n",
        "get_sessions_by_year_and_location(2024, 'Baku')  # Cambia el año y la localidad según lo necesites\n"
      ],
      "metadata": {
        "colab": {
          "base_uri": "https://localhost:8080/"
        },
        "id": "Wv06tCxojAG-",
        "outputId": "b9836f60-56a6-4a4a-80ff-25cfc4ca23af"
      },
      "execution_count": 56,
      "outputs": [
        {
          "output_type": "stream",
          "name": "stdout",
          "text": [
            "Año    Localidad            Nombre                         ID     Fecha inicio              Fecha fin                \n",
            "========================================================================================================================\n",
            "2024  \n",
            "  Baku                \n",
            "    Race               (ID: 9598 ) - Fecha inicio: 15 September 2024, 08:00 - Fecha fin: 15 September 2024, 10:00\n",
            "    Qualifying         (ID: 9594 ) - Fecha inicio: 14 September 2024, 09:00 - Fecha fin: 14 September 2024, 10:00\n",
            "    Practice 3         (ID: 9593 ) - Fecha inicio: 14 September 2024, 05:30 - Fecha fin: 14 September 2024, 06:30\n",
            "    Practice 2         (ID: 9592 ) - Fecha inicio: 13 September 2024, 10:00 - Fecha fin: 13 September 2024, 11:00\n",
            "    Practice 1         (ID: 9591 ) - Fecha inicio: 13 September 2024, 06:30 - Fecha fin: 13 September 2024, 07:30\n"
          ]
        }
      ]
    },
    {
      "cell_type": "markdown",
      "source": [],
      "metadata": {
        "id": "E8OhlSJ5MnCq"
      }
    },
    {
      "cell_type": "code",
      "source": [],
      "metadata": {
        "id": "_-_YHQlxMnia"
      },
      "execution_count": null,
      "outputs": []
    }
  ],
  "metadata": {
    "kernelspec": {
      "name": "python3",
      "display_name": "Python 3"
    },
    "language_info": {
      "name": "python"
    },
    "colab": {
      "provenance": [],
      "include_colab_link": true
    }
  },
  "nbformat": 4,
  "nbformat_minor": 0
}